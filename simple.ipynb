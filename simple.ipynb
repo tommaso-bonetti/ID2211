{
 "cells": [
  {
   "cell_type": "code",
   "execution_count": 65,
   "metadata": {},
   "outputs": [],
   "source": [
    "#import\n",
    "import numpy as np\n",
    "from datetime import datetime\n",
    "import json\n",
    "import math\n",
    "import random\n",
    "\n",
    "from functions import CostFunction, StrengthFunction\n",
    "from graph import GraphData#, get_adj_matrix\n",
    "from instance import Instances\n",
    "from learner import ParameterLearner"
   ]
  },
  {
   "cell_type": "code",
   "execution_count": 43,
   "metadata": {},
   "outputs": [],
   "source": [
    "#get adj\n",
    "def makeAdj(nr):\n",
    "    g = GraphData(nr)\n",
    "    sparse = g.adj_matrix\n",
    "    notsparse = sparse.toarray()\n",
    "    return notsparse"
   ]
  },
  {
   "cell_type": "code",
   "execution_count": 47,
   "metadata": {},
   "outputs": [
    {
     "name": "stdout",
     "output_type": "stream",
     "text": [
      "327\n",
      "117\n",
      "191\n",
      "476\n",
      "972\n"
     ]
    }
   ],
   "source": [
    "#to find maxin\n",
    "for i in range(5):\n",
    "    adj = makeAdj(i+1)\n",
    "    print(max(sum(adj)))"
   ]
  },
  {
   "cell_type": "code",
   "execution_count": null,
   "metadata": {},
   "outputs": [],
   "source": [
    "#to find sum edges\n",
    "for i in range(5):\n",
    "    adj = makeAdj(i+1)\n",
    "    print(sum(sum(adj)))"
   ]
  },
  {
   "cell_type": "code",
   "execution_count": 148,
   "metadata": {},
   "outputs": [],
   "source": [
    "#test for graph nr\n",
    "def testgraph(nr):\n",
    "    split = 0.2\n",
    "    adj = makeAdj(nr)\n",
    "    nodes = len(adj)\n",
    "\n",
    "    \"\"\"\n",
    "    #add self edges\n",
    "    #discontinued\n",
    "    for i in range(nodes):\n",
    "        if(adj[])\n",
    "    \"\"\"\n",
    "\n",
    "    start = nodes - math.floor(nodes*split)\n",
    "\n",
    "    #random\n",
    "    sumRand = [0]*10\n",
    "    for x in range(start, nodes):\n",
    "        found = 0\n",
    "        for k in range(0,10):\n",
    "            found = max(found, ((random.random()) <= 1/x))\n",
    "            sumRand[k] += found\n",
    "\n",
    "    #print(np.array(sumRand)/math.floor(nodes*split))\n",
    "\n",
    "    #pref\n",
    "    sumPref = [0]*10\n",
    "    for x in range(start, nodes):\n",
    "        found = 0\n",
    "        pool = [*range(x)] #add the basic chance of 1 to each\n",
    "        picked = []\n",
    "        for indegreNode in range(x):\n",
    "            for toAdd in range(sum(adj[:x])[indegreNode]):\n",
    "                pool.append(indegreNode)    #add in degree\n",
    "\n",
    "        for k in range(0,10):\n",
    "            pick = random.choice(pool)\n",
    "            while (pick in picked):\n",
    "                pick = random.choice(pool)\n",
    "            \n",
    "            if(adj[x][pick]==1):\n",
    "                found = 1\n",
    "            picked.append(pick)\n",
    "            sumPref[k] += found\n",
    "\n",
    "    #print(np.array(sumPref)/math.floor(nodes*split))\n",
    "\n",
    "    #top\n",
    "    sumTop = [0]*10\n",
    "    for x in range(start, nodes):\n",
    "        found = 0\n",
    "        tempAdj = np.copy(adj)[:x][:x]\n",
    "        for k in range(0,10):\n",
    "            prediction = np.where(sum(tempAdj)==max(sum(tempAdj)))[0][0]#sum(adj[:x]).index(max(sum(adj[:x])))\n",
    "            if(adj[x][prediction]==1):\n",
    "                found = 1\n",
    "            sumTop[k] += found\n",
    "            tempAdj[:,prediction] = 0 \n",
    "\n",
    "    #print(np.array(sumTop)/math.floor(nodes*split))\n",
    "\n",
    "    sumRand = np.array(sumRand)\n",
    "    sumPref = np.array(sumPref)\n",
    "    sumTop = np.array(sumTop)\n",
    "\n",
    "    return sumRand, sumPref, sumTop, math.floor(nodes*split)\n"
   ]
  },
  {
   "cell_type": "code",
   "execution_count": 149,
   "metadata": {},
   "outputs": [],
   "source": [
    "sumRand, sumPref, sumTop, testednodes = [0]*10,[0]*10,[0]*10,[0]*10\n",
    "\n",
    "for i in range(5):\n",
    "    sumRand[i], sumPref[i], sumTop[i], testednodes[i] = testgraph(i+1)"
   ]
  },
  {
   "cell_type": "code",
   "execution_count": 152,
   "metadata": {},
   "outputs": [
    {
     "name": "stdout",
     "output_type": "stream",
     "text": [
      "[0.28776978 0.30935252 0.31294964 0.32374101 0.33333333 0.34532374\n",
      " 0.35491607 0.36211031 0.36690647 0.36930456]\n"
     ]
    }
   ],
   "source": [
    "print(sum(sumTop)/sum(testednodes))"
   ]
  },
  {
   "cell_type": "code",
   "execution_count": 154,
   "metadata": {},
   "outputs": [
    {
     "name": "stdout",
     "output_type": "stream",
     "text": [
      "( 1 ,  0.0 )\n",
      "( 2 ,  0.001199040767386091 )\n",
      "( 3 ,  0.002398081534772182 )\n",
      "( 4 ,  0.002398081534772182 )\n",
      "( 5 ,  0.002398081534772182 )\n",
      "( 6 ,  0.004796163069544364 )\n",
      "( 7 ,  0.004796163069544364 )\n",
      "( 8 ,  0.004796163069544364 )\n",
      "( 9 ,  0.005995203836930456 )\n",
      "( 10 ,  0.007194244604316547 )\n",
      "( 1 ,  0.09952038369304557 )\n",
      "( 2 ,  0.17865707434052758 )\n",
      "( 3 ,  0.22661870503597123 )\n",
      "( 4 ,  0.24940047961630696 )\n",
      "( 5 ,  0.2637889688249401 )\n",
      "( 6 ,  0.2733812949640288 )\n",
      "( 7 ,  0.2841726618705036 )\n",
      "( 8 ,  0.28896882494004794 )\n",
      "( 9 ,  0.29856115107913667 )\n",
      "( 10 ,  0.29856115107913667 )\n",
      "( 1 ,  0.28776978417266186 )\n",
      "( 2 ,  0.30935251798561153 )\n",
      "( 3 ,  0.3129496402877698 )\n",
      "( 4 ,  0.3237410071942446 )\n",
      "( 5 ,  0.3333333333333333 )\n",
      "( 6 ,  0.34532374100719426 )\n",
      "( 7 ,  0.354916067146283 )\n",
      "( 8 ,  0.36211031175059955 )\n",
      "( 9 ,  0.3669064748201439 )\n",
      "( 10 ,  0.36930455635491605 )\n"
     ]
    }
   ],
   "source": [
    "#make cordinates\n",
    "array = [0]*3\n",
    "array[0] = sum(sumRand)/sum(testednodes)\n",
    "array[1] = sum(sumPref)/sum(testednodes)\n",
    "array[2] = sum(sumTop)/sum(testednodes)\n",
    "\n",
    "for arr in array:\n",
    "    for i in range(10):\n",
    "        print(\"(\",i+1, \", \", arr[i], \")\")"
   ]
  }
 ],
 "metadata": {
  "kernelspec": {
   "display_name": "base",
   "language": "python",
   "name": "python3"
  },
  "language_info": {
   "codemirror_mode": {
    "name": "ipython",
    "version": 3
   },
   "file_extension": ".py",
   "mimetype": "text/x-python",
   "name": "python",
   "nbconvert_exporter": "python",
   "pygments_lexer": "ipython3",
   "version": "3.9.12"
  },
  "orig_nbformat": 4
 },
 "nbformat": 4,
 "nbformat_minor": 2
}
